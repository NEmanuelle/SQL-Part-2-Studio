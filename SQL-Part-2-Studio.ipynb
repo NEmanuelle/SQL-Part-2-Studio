{
    "metadata": {
        "kernelspec": {
            "name": "SQL",
            "display_name": "SQL",
            "language": "sql"
        },
        "language_info": {
            "name": "sql",
            "version": ""
        },
        "extensions": {
            "azuredatastudio": {
                "version": 1,
                "views": []
            }
        }
    },
    "nbformat_minor": 2,
    "nbformat": 4,
    "cells": [
        {
            "cell_type": "markdown",
            "source": [
                "# Lesson 11: SQL Part 2 Studio\n",
                "\n",
                "> This studio asks you to create queries using the functions from this lesson. As you work through the studio, you may need to create more than one query to return the desired answer.  For others, you may need to combine functions together in order to answer the original query.  The questions have been organized in a way to help you puzzle out the answers.\n",
                "> \n",
                "> Happy querying! \n",
                "\n",
                "**The Dataset:**   \n",
                "\n",
                "> We will be working with the **BooksDB dataset** from Lesson 10.  You should already have access to it."
            ],
            "metadata": {
                "azdata_cell_guid": "bbaa021d-dbcb-4f90-a05f-f280d524589a"
            },
            "attachments": {}
        },
        {
            "cell_type": "code",
            "source": [
                "SELECT TOP 5 *\n",
                "FROM books"
            ],
            "metadata": {
                "azdata_cell_guid": "b21483d5-3fc3-4af4-8546-2d6d10c82b5c",
                "language": "sql"
            },
            "outputs": [
                {
                    "output_type": "display_data",
                    "data": {
                        "text/html": "(5 rows affected)"
                    },
                    "metadata": {}
                },
                {
                    "output_type": "display_data",
                    "data": {
                        "text/html": "Total execution time: 00:00:00.045"
                    },
                    "metadata": {}
                },
                {
                    "output_type": "execute_result",
                    "execution_count": 7,
                    "data": {
                        "application/vnd.dataresource+json": {
                            "schema": {
                                "fields": [
                                    {
                                        "name": "id"
                                    },
                                    {
                                        "name": "book_id"
                                    },
                                    {
                                        "name": "best_book_id"
                                    },
                                    {
                                        "name": "work_id"
                                    },
                                    {
                                        "name": "books_count"
                                    },
                                    {
                                        "name": "isbn"
                                    },
                                    {
                                        "name": "isbn13"
                                    },
                                    {
                                        "name": "authors"
                                    },
                                    {
                                        "name": "original_publication_year"
                                    },
                                    {
                                        "name": "original_title"
                                    },
                                    {
                                        "name": "title"
                                    },
                                    {
                                        "name": "language_code"
                                    },
                                    {
                                        "name": "average_rating"
                                    },
                                    {
                                        "name": "ratings_count"
                                    },
                                    {
                                        "name": "work_ratings_count"
                                    },
                                    {
                                        "name": "work_text_reviews_count"
                                    },
                                    {
                                        "name": "ratings_1"
                                    },
                                    {
                                        "name": "ratings_2"
                                    },
                                    {
                                        "name": "ratings_3"
                                    },
                                    {
                                        "name": "ratings_4"
                                    },
                                    {
                                        "name": "ratings_5"
                                    },
                                    {
                                        "name": "image_url"
                                    },
                                    {
                                        "name": "small_image_url"
                                    }
                                ]
                            },
                            "data": [
                                {
                                    "0": "1",
                                    "1": "2767052",
                                    "2": "2767052",
                                    "3": "2792775",
                                    "4": "272",
                                    "5": "439023483",
                                    "6": "9780439023480",
                                    "7": "Suzanne Collins",
                                    "8": "2008",
                                    "9": "The Hunger Games",
                                    "10": "The Hunger Games (The Hunger Games, #1)",
                                    "11": "eng",
                                    "12": "4.34",
                                    "13": "4780653",
                                    "14": "4942365",
                                    "15": "155254",
                                    "16": "66715",
                                    "17": "127936",
                                    "18": "560092",
                                    "19": "1481305",
                                    "20": "2706317",
                                    "21": "https://images.gr-assets.com/books/1447303603m/2767052.jpg",
                                    "22": "https://images.gr-assets.com/books/1447303603s/2767052.jpg"
                                },
                                {
                                    "0": "2",
                                    "1": "3",
                                    "2": "3",
                                    "3": "4640799",
                                    "4": "491",
                                    "5": "439554934",
                                    "6": "9780439554930",
                                    "7": "J.K. Rowling, Mary GrandPré",
                                    "8": "1997",
                                    "9": "Harry Potter and the Philosopher's Stone",
                                    "10": "Harry Potter and the Sorcerer's Stone (Harry Potter, #1)",
                                    "11": "eng",
                                    "12": "4.44",
                                    "13": "4602479",
                                    "14": "4800065",
                                    "15": "75867",
                                    "16": "75504",
                                    "17": "101676",
                                    "18": "455024",
                                    "19": "1156318",
                                    "20": "3011543",
                                    "21": "https://images.gr-assets.com/books/1474154022m/3.jpg",
                                    "22": "https://images.gr-assets.com/books/1474154022s/3.jpg"
                                },
                                {
                                    "0": "3",
                                    "1": "41865",
                                    "2": "41865",
                                    "3": "3212258",
                                    "4": "226",
                                    "5": "316015849",
                                    "6": "9780316015840",
                                    "7": "Stephenie Meyer",
                                    "8": "2005",
                                    "9": "Twilight",
                                    "10": "Twilight (Twilight, #1)",
                                    "11": "en-US",
                                    "12": "3.57",
                                    "13": "3866839",
                                    "14": "3916824",
                                    "15": "95009",
                                    "16": "456191",
                                    "17": "436802",
                                    "18": "793319",
                                    "19": "875073",
                                    "20": "1355439",
                                    "21": "https://images.gr-assets.com/books/1361039443m/41865.jpg",
                                    "22": "https://images.gr-assets.com/books/1361039443s/41865.jpg"
                                },
                                {
                                    "0": "4",
                                    "1": "2657",
                                    "2": "2657",
                                    "3": "3275794",
                                    "4": "487",
                                    "5": "61120081",
                                    "6": "9780061120080",
                                    "7": "Harper Lee",
                                    "8": "1960",
                                    "9": "To Kill a Mockingbird",
                                    "10": "To Kill a Mockingbird",
                                    "11": "eng",
                                    "12": "4.25",
                                    "13": "3198671",
                                    "14": "3340896",
                                    "15": "72586",
                                    "16": "60427",
                                    "17": "117415",
                                    "18": "446835",
                                    "19": "1001952",
                                    "20": "1714267",
                                    "21": "https://images.gr-assets.com/books/1361975680m/2657.jpg",
                                    "22": "https://images.gr-assets.com/books/1361975680s/2657.jpg"
                                },
                                {
                                    "0": "5",
                                    "1": "4671",
                                    "2": "4671",
                                    "3": "245494",
                                    "4": "1356",
                                    "5": "743273567",
                                    "6": "9780743273560",
                                    "7": "F. Scott Fitzgerald",
                                    "8": "1925",
                                    "9": "The Great Gatsby",
                                    "10": "The Great Gatsby",
                                    "11": "eng",
                                    "12": "3.89",
                                    "13": "2683664",
                                    "14": "2773745",
                                    "15": "51992",
                                    "16": "86236",
                                    "17": "197621",
                                    "18": "606158",
                                    "19": "936012",
                                    "20": "947718",
                                    "21": "https://images.gr-assets.com/books/1490528560m/4671.jpg",
                                    "22": "https://images.gr-assets.com/books/1490528560s/4671.jpg"
                                }
                            ]
                        },
                        "text/html": "<table><tr><th>id</th><th>book_id</th><th>best_book_id</th><th>work_id</th><th>books_count</th><th>isbn</th><th>isbn13</th><th>authors</th><th>original_publication_year</th><th>original_title</th><th>title</th><th>language_code</th><th>average_rating</th><th>ratings_count</th><th>work_ratings_count</th><th>work_text_reviews_count</th><th>ratings_1</th><th>ratings_2</th><th>ratings_3</th><th>ratings_4</th><th>ratings_5</th><th>image_url</th><th>small_image_url</th></tr><tr><td>1</td><td>2767052</td><td>2767052</td><td>2792775</td><td>272</td><td>439023483</td><td>9780439023480</td><td>Suzanne Collins</td><td>2008</td><td>The Hunger Games</td><td>The Hunger Games (The Hunger Games, #1)</td><td>eng</td><td>4.34</td><td>4780653</td><td>4942365</td><td>155254</td><td>66715</td><td>127936</td><td>560092</td><td>1481305</td><td>2706317</td><td>https://images.gr-assets.com/books/1447303603m/2767052.jpg</td><td>https://images.gr-assets.com/books/1447303603s/2767052.jpg</td></tr><tr><td>2</td><td>3</td><td>3</td><td>4640799</td><td>491</td><td>439554934</td><td>9780439554930</td><td>J.K. Rowling, Mary GrandPré</td><td>1997</td><td>Harry Potter and the Philosopher's Stone</td><td>Harry Potter and the Sorcerer's Stone (Harry Potter, #1)</td><td>eng</td><td>4.44</td><td>4602479</td><td>4800065</td><td>75867</td><td>75504</td><td>101676</td><td>455024</td><td>1156318</td><td>3011543</td><td>https://images.gr-assets.com/books/1474154022m/3.jpg</td><td>https://images.gr-assets.com/books/1474154022s/3.jpg</td></tr><tr><td>3</td><td>41865</td><td>41865</td><td>3212258</td><td>226</td><td>316015849</td><td>9780316015840</td><td>Stephenie Meyer</td><td>2005</td><td>Twilight</td><td>Twilight (Twilight, #1)</td><td>en-US</td><td>3.57</td><td>3866839</td><td>3916824</td><td>95009</td><td>456191</td><td>436802</td><td>793319</td><td>875073</td><td>1355439</td><td>https://images.gr-assets.com/books/1361039443m/41865.jpg</td><td>https://images.gr-assets.com/books/1361039443s/41865.jpg</td></tr><tr><td>4</td><td>2657</td><td>2657</td><td>3275794</td><td>487</td><td>61120081</td><td>9780061120080</td><td>Harper Lee</td><td>1960</td><td>To Kill a Mockingbird</td><td>To Kill a Mockingbird</td><td>eng</td><td>4.25</td><td>3198671</td><td>3340896</td><td>72586</td><td>60427</td><td>117415</td><td>446835</td><td>1001952</td><td>1714267</td><td>https://images.gr-assets.com/books/1361975680m/2657.jpg</td><td>https://images.gr-assets.com/books/1361975680s/2657.jpg</td></tr><tr><td>5</td><td>4671</td><td>4671</td><td>245494</td><td>1356</td><td>743273567</td><td>9780743273560</td><td>F. Scott Fitzgerald</td><td>1925</td><td>The Great Gatsby</td><td>The Great Gatsby</td><td>eng</td><td>3.89</td><td>2683664</td><td>2773745</td><td>51992</td><td>86236</td><td>197621</td><td>606158</td><td>936012</td><td>947718</td><td>https://images.gr-assets.com/books/1490528560m/4671.jpg</td><td>https://images.gr-assets.com/books/1490528560s/4671.jpg</td></tr></table>"
                    },
                    "metadata": {}
                }
            ],
            "execution_count": 7
        },
        {
            "cell_type": "markdown",
            "source": [
                "## The Questions:"
            ],
            "metadata": {
                "azdata_cell_guid": "bfc33995-70d4-4403-a870-39244e5e9727"
            }
        },
        {
            "cell_type": "markdown",
            "source": [
                "1.  Create a query that returns the longest title in the dataset.  We can do this in two steps.\n",
                "\n",
                "> A. Create a query that returns the length of the longest title.\n",
                "> \n",
                "> B. Create a query that uses the length you found in step A to find the longest title. The longest title is 'Soccernomics: Why England Loses, Why Germany and Brazil Win, and Why the U.S., Japan, Australia, Turkey--and Even Iraq--Are Destined to Become the Kings of the World's Most Popular Sport'"
            ],
            "metadata": {
                "azdata_cell_guid": "29e63840-f200-4b1b-9239-4dc60a402c1d"
            },
            "attachments": {}
        },
        {
            "cell_type": "code",
            "source": [
                "-- Code here:\n",
                "SELECT TOP 5\n",
                "LEN (title) as 'length of title',\n",
                "title\n",
                "FROM books\n",
                "ORDER BY [length of title] DESC"
            ],
            "metadata": {
                "azdata_cell_guid": "fc1a211d-ea4e-446a-bbf8-e31499c50aba",
                "language": "sql"
            },
            "outputs": [
                {
                    "output_type": "display_data",
                    "data": {
                        "text/html": "(5 rows affected)"
                    },
                    "metadata": {}
                },
                {
                    "output_type": "display_data",
                    "data": {
                        "text/html": "Total execution time: 00:00:00.064"
                    },
                    "metadata": {}
                },
                {
                    "output_type": "execute_result",
                    "metadata": {},
                    "execution_count": 54,
                    "data": {
                        "application/vnd.dataresource+json": {
                            "schema": {
                                "fields": [
                                    {
                                        "name": "length of title"
                                    },
                                    {
                                        "name": "title"
                                    }
                                ]
                            },
                            "data": [
                                {
                                    "0": "186",
                                    "1": "Soccernomics: Why England Loses, Why Germany and Brazil Win, and Why the U.S., Japan, Australia, Turkey--and Even Iraq--Are Destined to Become the Kings of the World's Most Popular Sport"
                                },
                                {
                                    "0": "174",
                                    "1": "Bright Lights, Big Ass: A Self-Indulgent, Surly, Ex-Sorority Girl's Guide to Why It Often Sucks in the City, or Who Are These Idiots and Why Do They All Live Next Door to Me?"
                                },
                                {
                                    "0": "167",
                                    "1": "The Unofficial Harry Potter Cookbook: From Cauldron Cakes to Knickerbocker Glory--More Than 150 Magical Recipes for Wizards and Non-Wizards Alike (Unofficial Cookbook)"
                                },
                                {
                                    "0": "165",
                                    "1": "The Art Spirit: Notes, Articles, Fragments of Letters and Talks to Students, Bearing on the Concept and Technique of Picture Making, the Study of Art (Icon Editions)"
                                },
                                {
                                    "0": "163",
                                    "1": "Bitter Is the New Black: Confessions of a Condescending, Egomaniacal, Self-Centered Smartass, Or, Why You Should Never Carry A Prada Bag to the Unemployment Office"
                                }
                            ]
                        },
                        "text/html": [
                            "<table>",
                            "<tr><th>length of title</th><th>title</th></tr>",
                            "<tr><td>186</td><td>Soccernomics: Why England Loses, Why Germany and Brazil Win, and Why the U.S., Japan, Australia, Turkey--and Even Iraq--Are Destined to Become the Kings of the World's Most Popular Sport</td></tr>",
                            "<tr><td>174</td><td>Bright Lights, Big Ass: A Self-Indulgent, Surly, Ex-Sorority Girl's Guide to Why It Often Sucks in the City, or Who Are These Idiots and Why Do They All Live Next Door to Me?</td></tr>",
                            "<tr><td>167</td><td>The Unofficial Harry Potter Cookbook: From Cauldron Cakes to Knickerbocker Glory--More Than 150 Magical Recipes for Wizards and Non-Wizards Alike (Unofficial Cookbook)</td></tr>",
                            "<tr><td>165</td><td>The Art Spirit: Notes, Articles, Fragments of Letters and Talks to Students, Bearing on the Concept and Technique of Picture Making, the Study of Art (Icon Editions)</td></tr>",
                            "<tr><td>163</td><td>Bitter Is the New Black: Confessions of a Condescending, Egomaniacal, Self-Centered Smartass, Or, Why You Should Never Carry A Prada Bag to the Unemployment Office</td></tr>",
                            "</table>"
                        ]
                    }
                }
            ],
            "execution_count": 54
        },
        {
            "cell_type": "markdown",
            "source": [
                "2.  Use what you learned in question 1 to find the shortest author name.  \n",
                "\n",
                "> A. Create a query that returns the length of the shortest author.\n",
                "> \n",
                "> B. Create a query that returns the shortest author's name. 'Avi' is the shortest author."
            ],
            "metadata": {
                "azdata_cell_guid": "5de64491-7324-44ce-bda4-e22b07229854"
            },
            "attachments": {}
        },
        {
            "cell_type": "code",
            "source": [
                "-- Code here:\n",
                "SELECT TOP 5\n",
                "LEN (authors) as 'length of author',\n",
                "authors\n",
                "FROM books\n",
                "ORDER BY [length of author] ASC"
            ],
            "metadata": {
                "azdata_cell_guid": "61423c75-cb55-470f-b062-a1901d3da67c",
                "language": "sql",
                "tags": []
            },
            "outputs": [
                {
                    "output_type": "display_data",
                    "data": {
                        "text/html": "(5 rows affected)"
                    },
                    "metadata": {}
                },
                {
                    "output_type": "display_data",
                    "data": {
                        "text/html": "Total execution time: 00:00:00.066"
                    },
                    "metadata": {}
                },
                {
                    "output_type": "execute_result",
                    "execution_count": 3,
                    "data": {
                        "application/vnd.dataresource+json": {
                            "schema": {
                                "fields": [
                                    {
                                        "name": "length of author"
                                    },
                                    {
                                        "name": "authors"
                                    }
                                ]
                            },
                            "data": [
                                {
                                    "0": "3",
                                    "1": "Avi"
                                },
                                {
                                    "0": "3",
                                    "1": "Avi"
                                },
                                {
                                    "0": "4",
                                    "1": "Zane"
                                },
                                {
                                    "0": "5",
                                    "1": "Tijan"
                                },
                                {
                                    "0": "5",
                                    "1": "Tijan"
                                }
                            ]
                        },
                        "text/html": "<table><tr><th>length of author</th><th>authors</th></tr><tr><td>3</td><td>Avi</td></tr><tr><td>3</td><td>Avi</td></tr><tr><td>4</td><td>Zane</td></tr><tr><td>5</td><td>Tijan</td></tr><tr><td>5</td><td>Tijan</td></tr></table>"
                    },
                    "metadata": {}
                }
            ],
            "execution_count": 3
        },
        {
            "cell_type": "markdown",
            "source": [
                "3\\. How many titles contain the word \"The\"?  \n",
                "\n",
                "> A. Is there a difference between the number of titles that use \"The\" or \"the\"? no"
            ],
            "metadata": {
                "azdata_cell_guid": "97f50346-9729-4d1b-926c-e1b53c5c5e68"
            },
            "attachments": {}
        },
        {
            "cell_type": "code",
            "source": [
                "-- Code here:\n",
                "SELECT \n",
                "COUNT (title) \n",
                "AS 'Number of books that contain The'\n",
                "FROM books\n",
                "WHERE\n",
                "title LIKE '%The %' OR title LIKE '%the %'"
            ],
            "metadata": {
                "azdata_cell_guid": "f58433db-eb3b-46e0-bb4d-85ca52d359b5",
                "language": "sql",
                "tags": []
            },
            "outputs": [
                {
                    "output_type": "display_data",
                    "data": {
                        "text/html": "(1 row affected)"
                    },
                    "metadata": {}
                },
                {
                    "output_type": "display_data",
                    "data": {
                        "text/html": "Total execution time: 00:00:00.074"
                    },
                    "metadata": {}
                },
                {
                    "output_type": "execute_result",
                    "metadata": {},
                    "execution_count": 56,
                    "data": {
                        "application/vnd.dataresource+json": {
                            "schema": {
                                "fields": [
                                    {
                                        "name": "Number of books that contain The"
                                    }
                                ]
                            },
                            "data": [
                                {
                                    "0": "4506"
                                }
                            ]
                        },
                        "text/html": [
                            "<table>",
                            "<tr><th>Number of books that contain The</th></tr>",
                            "<tr><td>4506</td></tr>",
                            "</table>"
                        ]
                    }
                }
            ],
            "execution_count": 56
        },
        {
            "cell_type": "markdown",
            "source": [
                "4.  How many authors' names _start_ with 'Z'?"
            ],
            "metadata": {
                "azdata_cell_guid": "e0d89eca-410d-4e29-82ca-265b79c73fea"
            },
            "attachments": {}
        },
        {
            "cell_type": "code",
            "source": [
                "-- Code here:\n",
                "SELECT \n",
                "COUNT (authors)\n",
                "AS 'Authors w Z names'\n",
                "FROM books \n",
                "WHERE authors LIKE 'Z%'"
            ],
            "metadata": {
                "azdata_cell_guid": "850f04c8-458a-4cfb-95c4-4dbb7a3d63d0",
                "language": "sql",
                "tags": []
            },
            "outputs": [
                {
                    "output_type": "display_data",
                    "data": {
                        "text/html": "(1 row affected)"
                    },
                    "metadata": {}
                },
                {
                    "output_type": "display_data",
                    "data": {
                        "text/html": "Total execution time: 00:00:00.039"
                    },
                    "metadata": {}
                },
                {
                    "output_type": "execute_result",
                    "execution_count": 5,
                    "data": {
                        "application/vnd.dataresource+json": {
                            "schema": {
                                "fields": [
                                    {
                                        "name": "Authors w Z names"
                                    }
                                ]
                            },
                            "data": [
                                {
                                    "0": "11"
                                }
                            ]
                        },
                        "text/html": "<table><tr><th>Authors w Z names</th></tr><tr><td>11</td></tr></table>"
                    },
                    "metadata": {}
                }
            ],
            "execution_count": 5
        },
        {
            "cell_type": "markdown",
            "source": [
                "5\\. How many books have been identified as printed in a language other than English?  There are four language codes for English: 'en', 'eng', 'en-US', and 'en-UK'.  Use LEFT to answer the question.  (Do not use the wildcard)\n",
                "\n",
                "You might want to use one of these [comparison operators](https://docs.microsoft.com/en-us/sql/t-sql/language-elements/comparison-operators-transact-sql?view=sql-server-ver15)."
            ],
            "metadata": {
                "azdata_cell_guid": "7066afeb-79d2-4e7f-b497-cbde17655b19"
            },
            "attachments": {}
        },
        {
            "cell_type": "code",
            "source": [
                "-- Code here:\n",
                "SELECT \n",
                "COUNT(language_code)\n",
                "FROM\n",
                "    books\n",
                "WHERE \n",
                "LEFT (language_code,2) != 'en'"
            ],
            "metadata": {
                "azdata_cell_guid": "5a85f5ae-dd59-4fa1-828a-c63fa330ff7f",
                "language": "sql",
                "tags": []
            },
            "outputs": [
                {
                    "output_type": "display_data",
                    "data": {
                        "text/html": "(1 row affected)"
                    },
                    "metadata": {}
                },
                {
                    "output_type": "display_data",
                    "data": {
                        "text/html": "Total execution time: 00:00:00.041"
                    },
                    "metadata": {}
                },
                {
                    "output_type": "execute_result",
                    "metadata": {},
                    "execution_count": 32,
                    "data": {
                        "application/vnd.dataresource+json": {
                            "schema": {
                                "fields": [
                                    {
                                        "name": "(No column name)"
                                    }
                                ]
                            },
                            "data": [
                                {
                                    "0": "186"
                                }
                            ]
                        },
                        "text/html": [
                            "<table>",
                            "<tr><th>(No column name)</th></tr>",
                            "<tr><td>186</td></tr>",
                            "</table>"
                        ]
                    }
                }
            ],
            "execution_count": 32
        },
        {
            "cell_type": "markdown",
            "source": [
                "6\\. Retry question 5 using SUBSTRING."
            ],
            "metadata": {
                "azdata_cell_guid": "93153cd1-ecea-4e4b-87f5-2214993a7291"
            },
            "attachments": {}
        },
        {
            "cell_type": "code",
            "source": [
                "-- Code here:\n",
                "SELECT \n",
                "COUNT(language_code)\n",
                "FROM\n",
                "    books\n",
                "WHERE \n",
                "SUBSTRING (language_code,1,2) != 'en'"
            ],
            "metadata": {
                "azdata_cell_guid": "7756ae02-4ec2-4456-b3a7-c3604bf07e26",
                "language": "sql",
                "tags": []
            },
            "outputs": [
                {
                    "output_type": "display_data",
                    "data": {
                        "text/html": "(1 row affected)"
                    },
                    "metadata": {}
                },
                {
                    "output_type": "display_data",
                    "data": {
                        "text/html": "Total execution time: 00:00:00.039"
                    },
                    "metadata": {}
                },
                {
                    "output_type": "execute_result",
                    "metadata": {},
                    "execution_count": 35,
                    "data": {
                        "application/vnd.dataresource+json": {
                            "schema": {
                                "fields": [
                                    {
                                        "name": "(No column name)"
                                    }
                                ]
                            },
                            "data": [
                                {
                                    "0": "186"
                                }
                            ]
                        },
                        "text/html": [
                            "<table>",
                            "<tr><th>(No column name)</th></tr>",
                            "<tr><td>186</td></tr>",
                            "</table>"
                        ]
                    }
                }
            ],
            "execution_count": 35
        },
        {
            "cell_type": "markdown",
            "source": [
                "7.  Create a column that returns the title, authors, and language codes.  Concatenate these elements so that they return in the following way: title by authors in language\\_code language.\n",
                "\n",
                "> A.  Check each selected column to see where any values are NULL.  Did any of the columns contain NULL values?  If so, which one? Multiple columns have null values."
            ],
            "metadata": {
                "azdata_cell_guid": "c8124542-ea76-4153-96ef-f4db908fbd6c"
            },
            "attachments": {}
        },
        {
            "cell_type": "code",
            "source": [
                "-- Code here:\n",
                "SELECT TOP 5\n",
                "CONCAT (title,' by ',authors,' in ',language_code ) AS 'Book Listing'\n",
                "FROM books\n",
                "--WHERE title IS NULL OR authors IS NULL OR language_code IS NULL;"
            ],
            "metadata": {
                "azdata_cell_guid": "26705af1-6191-48b9-b649-7bc93cad102d",
                "language": "sql",
                "tags": []
            },
            "outputs": [
                {
                    "output_type": "display_data",
                    "data": {
                        "text/html": "(5 rows affected)"
                    },
                    "metadata": {}
                },
                {
                    "output_type": "display_data",
                    "data": {
                        "text/html": "Total execution time: 00:00:00.032"
                    },
                    "metadata": {}
                },
                {
                    "output_type": "execute_result",
                    "metadata": {},
                    "execution_count": 20,
                    "data": {
                        "application/vnd.dataresource+json": {
                            "schema": {
                                "fields": [
                                    {
                                        "name": "Book Listing"
                                    }
                                ]
                            },
                            "data": [
                                {
                                    "0": "The Hunger Games (The Hunger Games, #1) by Suzanne Collins in eng"
                                },
                                {
                                    "0": "Harry Potter and the Sorcerer's Stone (Harry Potter, #1) by J.K. Rowling, Mary GrandPré in eng"
                                },
                                {
                                    "0": "Twilight (Twilight, #1) by Stephenie Meyer in en-US"
                                },
                                {
                                    "0": "To Kill a Mockingbird by Harper Lee in eng"
                                },
                                {
                                    "0": "The Great Gatsby by F. Scott Fitzgerald in eng"
                                }
                            ]
                        },
                        "text/html": [
                            "<table>",
                            "<tr><th>Book Listing</th></tr>",
                            "<tr><td>The Hunger Games (The Hunger Games, #1) by Suzanne Collins in eng</td></tr>",
                            "<tr><td>Harry Potter and the Sorcerer's Stone (Harry Potter, #1) by J.K. Rowling, Mary GrandPré in eng</td></tr>",
                            "<tr><td>Twilight (Twilight, #1) by Stephenie Meyer in en-US</td></tr>",
                            "<tr><td>To Kill a Mockingbird by Harper Lee in eng</td></tr>",
                            "<tr><td>The Great Gatsby by F. Scott Fitzgerald in eng</td></tr>",
                            "</table>"
                        ]
                    }
                }
            ],
            "execution_count": 20
        },
        {
            "cell_type": "markdown",
            "source": [
                "8.  Update the query in question 7 using COALESCE to change the language code values from NULL to 'unknown'.\n",
                "\n",
                "> A.  Has this changed the language\\_code  where the values are NULL?"
            ],
            "metadata": {
                "azdata_cell_guid": "17fd76a8-afa7-4d86-a200-2902d7310a2b"
            },
            "attachments": {}
        },
        {
            "cell_type": "code",
            "source": [
                "-- Code here:\n",
                "SELECT TOP 5\n",
                "title +' by ' + authors +' in ' + COALESCE(language_code,'unknown') AS 'Book Listing_Updated'\n",
                "FROM books\n",
                "--WHERE language_code is NULL"
            ],
            "metadata": {
                "azdata_cell_guid": "f9694996-4545-48b9-9981-325b5c590570",
                "language": "sql",
                "tags": []
            },
            "outputs": [
                {
                    "output_type": "display_data",
                    "data": {
                        "text/html": "(5 rows affected)"
                    },
                    "metadata": {}
                },
                {
                    "output_type": "display_data",
                    "data": {
                        "text/html": "Total execution time: 00:00:00.033"
                    },
                    "metadata": {}
                },
                {
                    "output_type": "execute_result",
                    "metadata": {},
                    "execution_count": 52,
                    "data": {
                        "application/vnd.dataresource+json": {
                            "schema": {
                                "fields": [
                                    {
                                        "name": "Book Listing_Updated"
                                    }
                                ]
                            },
                            "data": [
                                {
                                    "0": "The Hunger Games (The Hunger Games, #1) by Suzanne Collins in eng"
                                },
                                {
                                    "0": "Harry Potter and the Sorcerer's Stone (Harry Potter, #1) by J.K. Rowling, Mary GrandPré in eng"
                                },
                                {
                                    "0": "Twilight (Twilight, #1) by Stephenie Meyer in en-US"
                                },
                                {
                                    "0": "To Kill a Mockingbird by Harper Lee in eng"
                                },
                                {
                                    "0": "The Great Gatsby by F. Scott Fitzgerald in eng"
                                }
                            ]
                        },
                        "text/html": [
                            "<table>",
                            "<tr><th>Book Listing_Updated</th></tr>",
                            "<tr><td>The Hunger Games (The Hunger Games, #1) by Suzanne Collins in eng</td></tr>",
                            "<tr><td>Harry Potter and the Sorcerer's Stone (Harry Potter, #1) by J.K. Rowling, Mary GrandPré in eng</td></tr>",
                            "<tr><td>Twilight (Twilight, #1) by Stephenie Meyer in en-US</td></tr>",
                            "<tr><td>To Kill a Mockingbird by Harper Lee in eng</td></tr>",
                            "<tr><td>The Great Gatsby by F. Scott Fitzgerald in eng</td></tr>",
                            "</table>"
                        ]
                    }
                }
            ],
            "execution_count": 52
        },
        {
            "cell_type": "markdown",
            "source": [
                "9\\. Revisit question 7 using ISNULL instead of COALESCE.\n",
                "\n",
                "> A.  Has this changed the language\\_code  where the values are NULL? Yes, it should have."
            ],
            "metadata": {
                "azdata_cell_guid": "57b87290-135f-478d-bf1c-2262759f8da5"
            },
            "attachments": {}
        },
        {
            "cell_type": "code",
            "source": [
                "-- Code here:\n",
                "SELECT TOP 5\n",
                "title +' by ' + authors +' in ' + ISNULL(language_code,'unknown') AS 'Book Listing_Null'\n",
                "FROM books\n",
                "--WHERE language_code IS NULL;"
            ],
            "metadata": {
                "azdata_cell_guid": "a9670717-6dc6-4685-9f62-7a588753b4a9",
                "language": "sql"
            },
            "outputs": [
                {
                    "output_type": "display_data",
                    "data": {
                        "text/html": "(5 rows affected)"
                    },
                    "metadata": {}
                },
                {
                    "output_type": "display_data",
                    "data": {
                        "text/html": "Total execution time: 00:00:00.035"
                    },
                    "metadata": {}
                },
                {
                    "output_type": "execute_result",
                    "metadata": {},
                    "execution_count": 53,
                    "data": {
                        "application/vnd.dataresource+json": {
                            "schema": {
                                "fields": [
                                    {
                                        "name": "Book Listing_Null"
                                    }
                                ]
                            },
                            "data": [
                                {
                                    "0": "The Hunger Games (The Hunger Games, #1) by Suzanne Collins in eng"
                                },
                                {
                                    "0": "Harry Potter and the Sorcerer's Stone (Harry Potter, #1) by J.K. Rowling, Mary GrandPré in eng"
                                },
                                {
                                    "0": "Twilight (Twilight, #1) by Stephenie Meyer in en-US"
                                },
                                {
                                    "0": "To Kill a Mockingbird by Harper Lee in eng"
                                },
                                {
                                    "0": "The Great Gatsby by F. Scott Fitzgerald in eng"
                                }
                            ]
                        },
                        "text/html": [
                            "<table>",
                            "<tr><th>Book Listing_Null</th></tr>",
                            "<tr><td>The Hunger Games (The Hunger Games, #1) by Suzanne Collins in eng</td></tr>",
                            "<tr><td>Harry Potter and the Sorcerer's Stone (Harry Potter, #1) by J.K. Rowling, Mary GrandPré in eng</td></tr>",
                            "<tr><td>Twilight (Twilight, #1) by Stephenie Meyer in en-US</td></tr>",
                            "<tr><td>To Kill a Mockingbird by Harper Lee in eng</td></tr>",
                            "<tr><td>The Great Gatsby by F. Scott Fitzgerald in eng</td></tr>",
                            "</table>"
                        ]
                    }
                }
            ],
            "execution_count": 53
        }
    ]
}